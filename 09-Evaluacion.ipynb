{
 "cells": [
  {
   "cell_type": "markdown",
   "metadata": {},
   "source": [
    "**Recuerde no agregar o quitar celdas en este notebook, ni modificar su tipo. Si lo hace, el sistema automaticamente lo calificará con cero punto cero (0.0)**"
   ]
  },
  {
   "cell_type": "markdown",
   "metadata": {},
   "source": [
    "Use el siguiente conjunto de datos para resolver los problemas propuestos. Use [gradetool](gradetool.md) para verificar las respuestas del notebook."
   ]
  },
  {
   "cell_type": "code",
   "execution_count": 3,
   "metadata": {},
   "outputs": [
    {
     "name": "stdout",
     "output_type": "stream",
     "text": [
      "Overwriting data.csv\n"
     ]
    }
   ],
   "source": [
    "%%writefile data.csv\n",
    "1,Vivian,Hamilton,1971-07-08,green,1\n",
    "2,Karen,Holcomb,1974-05-23,green,4\n",
    "3,Cody,Garrett,1973-04-22,orange,1\n",
    "4,Roth,Fry,1975-01-29,black,1\n",
    "5,Zoe,Conway,1974-07-03,blue,2\n",
    "6,Gretchen,Kinney,1974-10-18,viole,1\n",
    "7,Driscoll,Klein,1970-10-05,blue,5\n",
    "8,Karyn,Diaz,1969-02-24,red,1\n",
    "9,Merritt,Guy,1974-10-17,indigo,4\n",
    "10,Kylan,Sexton,1975-02-28,black,4\n",
    "11,Jordan,Estes,1969-12-07,indigo,4\n",
    "12,Hope,Coffey,1973-12-24,green,5\n",
    "13,Vivian,Crane,1970-08-27,gray,5\n",
    "14,Clio,Noel,1972-12-12,red,5\n",
    "15,Hope,Silva,1970-07-01,blue,5\n",
    "16,Ayanna,Jarvis,1974-02-11,orange,5\n",
    "17,Chanda,Boyer,1973-04-01,green,4\n",
    "18,Chadwick,Knight,1973-04-29,yellow,1"
   ]
  },
  {
   "cell_type": "code",
   "execution_count": 2,
   "metadata": {},
   "outputs": [
    {
     "name": "stdout",
     "output_type": "stream",
     "text": [
      "500\n"
     ]
    }
   ],
   "source": [
    "%load_ext bigdata\n",
    "%timeout 500\n",
    "%pig_init"
   ]
  },
  {
   "cell_type": "code",
   "execution_count": 4,
   "metadata": {
    "scrolled": true
   },
   "outputs": [],
   "source": [
    "%%pig\n",
    "u = LOAD 'data.csv' USING PigStorage(',') \n",
    "    AS (id:int, \n",
    "        firstname:CHARARRAY, \n",
    "        surname:CHARARRAY, \n",
    "        birthday:CHARARRAY, \n",
    "        color:CHARARRAY, \n",
    "        quantity:INT);"
   ]
  },
  {
   "cell_type": "markdown",
   "metadata": {},
   "source": [
    "## Pregunta 1\n",
    "\n",
    "Escriba una consulta en Pig que genere la siguiente salida:\n",
    "\n",
    "    (Vivian@Hamilton)\n",
    "    (Karen@Holcomb)\n",
    "    (Cody@Garrett)\n",
    "    (Roth@Fry)\n",
    "    (Zoe@Conway)\n",
    "    (Gretchen@Kinney)\n",
    "    (Driscoll@Klein)\n",
    "    (Karyn@Diaz)\n",
    "    (Merritt@Guy)\n",
    "    (Kylan@Sexton)\n",
    "    (Jordan@Estes)\n",
    "    (Hope@Coffey)\n",
    "    (Vivian@Crane)\n",
    "    (Clio@Noel)\n",
    "    (Hope@Silva)\n",
    "    (Ayanna@Jarvis)\n",
    "    (Chanda@Boyer)\n",
    "    (Chadwick@Knight)"
   ]
  },
  {
   "cell_type": "code",
   "execution_count": 7,
   "metadata": {},
   "outputs": [
    {
     "name": "stdout",
     "output_type": "stream",
     "text": [
      "(Vivian@Hamilton)\n",
      "(Karen@Holcomb)\n",
      "(Cody@Garrett)\n",
      "(Roth@Fry)\n",
      "(Zoe@Conway)\n",
      "(Gretchen@Kinney)\n",
      "(Driscoll@Klein)\n",
      "(Karyn@Diaz)\n",
      "(Merritt@Guy)\n",
      "(Kylan@Sexton)\n",
      "(Jordan@Estes)\n",
      "(Hope@Coffey)\n",
      "(Vivian@Crane)\n",
      "(Clio@Noel)\n",
      "(Hope@Silva)\n",
      "(Ayanna@Jarvis)\n",
      "(Chanda@Boyer)\n",
      "(Chadwick@Knight)\n"
     ]
    }
   ],
   "source": [
    "%%pig\n",
    "-- >>> Write your answer here <<<\n",
    "respuesta = FOREACH u GENERATE CONCAT (firstname,'@',surname); \n",
    "DUMP respuesta;"
   ]
  },
  {
   "cell_type": "markdown",
   "metadata": {},
   "source": [
    "## Pregunta 2\n",
    "\n",
    "Genere una relación con el apellido y su longitud. Ordene por longitud y por apellido. Obtenga la siguiente salida.\n",
    "\n",
    "    (Hamilton,8)\n",
    "    (Garrett,7)\n",
    "    (Holcomb,7)\n",
    "    (Coffey,6)\n",
    "    (Conway,6)"
   ]
  },
  {
   "cell_type": "code",
   "execution_count": 8,
   "metadata": {},
   "outputs": [
    {
     "name": "stdout",
     "output_type": "stream",
     "text": [
      "(Hamilton,8)\n",
      "(Garrett,7)\n",
      "(Holcomb,7)\n",
      "(Coffey,6)\n",
      "(Conway,6)\n"
     ]
    }
   ],
   "source": [
    "%%pig\n",
    "-- >>> Write your answer here <<<\n",
    "longitud = FOREACH u GENERATE surname,SIZE(surname) as lon;\n",
    "longitud_ordenada = ORDER longitud BY lon desc,surname asc;\n",
    "respuesta= LIMIT longitud_ordenada 5;\n",
    "DUMP respuesta;"
   ]
  },
  {
   "cell_type": "markdown",
   "metadata": {},
   "source": [
    "## Pregunta 3\n",
    "\n",
    "Escriba el código que genere la siguiente salida.\n",
    "\n",
    "    (Hamilton,HAMILTON,hamilton)\n",
    "    (Holcomb,HOLCOMB,holcomb)\n",
    "    (Garrett,GARRETT,garrett)\n",
    "    (Fry,FRY,fry)\n",
    "    (Conway,CONWAY,conway)"
   ]
  },
  {
   "cell_type": "code",
   "execution_count": 9,
   "metadata": {},
   "outputs": [
    {
     "name": "stdout",
     "output_type": "stream",
     "text": [
      "(Hamilton,HAMILTON,hamilton)\n",
      "(Holcomb,HOLCOMB,holcomb)\n",
      "(Garrett,GARRETT,garrett)\n",
      "(Fry,FRY,fry)\n",
      "(Conway,CONWAY,conway)\n"
     ]
    }
   ],
   "source": [
    "%%pig\n",
    "-- >>> Write your answer here <<<\n",
    "data= FOREACH u GENERATE surname,UPPER(surname),LOWER(surname);\n",
    "respuesta = LIMIT data 5;\n",
    "DUMP respuesta;"
   ]
  },
  {
   "cell_type": "markdown",
   "metadata": {},
   "source": [
    "## Pregunta 4\n",
    "\n",
    "Obtenga los apellidos que empiecen por las letras entre la 'd' y la 'k'. La salida esperada es la siguiente:\n",
    "\n",
    "    (Hamilton)\n",
    "    (Holcomb)\n",
    "    (Garrett)\n",
    "    (Fry)\n",
    "    (Kinney)\n",
    "    (Klein)\n",
    "    (Diaz)\n",
    "    (Guy)\n",
    "    (Estes)\n",
    "    (Jarvis)\n",
    "    (Knight)"
   ]
  },
  {
   "cell_type": "code",
   "execution_count": 12,
   "metadata": {},
   "outputs": [
    {
     "name": "stdout",
     "output_type": "stream",
     "text": [
      "(Hamilton)\n",
      "(Holcomb)\n",
      "(Garrett)\n",
      "(Fry)\n",
      "(Kinney)\n",
      "(Klein)\n",
      "(Diaz)\n",
      "(Guy)\n",
      "(Estes)\n",
      "(Jarvis)\n",
      "(Knight)\n"
     ]
    }
   ],
   "source": [
    "%%pig\n",
    "-- >>> Write your answer here <<<\n",
    "filtro_d = FOREACH u GENERATE surname;\n",
    "filtro_s = FILTER filtro_d by UPPER(SUBSTRING(surname,0,1)) MATCHES 'D|E|F|G|H|I|J|K';\n",
    "DUMP filtro_s;"
   ]
  },
  {
   "cell_type": "markdown",
   "metadata": {},
   "source": [
    "## Pregunta 5\n",
    "\n",
    "Escriba el código equivalente a la siguiente consulta en SQL.\n",
    "\n",
    "    SELECT\n",
    "        color\n",
    "    FROM \n",
    "        u \n",
    "    WHERE \n",
    "        color \n",
    "    LIKE 'b%';"
   ]
  },
  {
   "cell_type": "code",
   "execution_count": 13,
   "metadata": {},
   "outputs": [
    {
     "name": "stdout",
     "output_type": "stream",
     "text": [
      "(black)\n",
      "(blue)\n",
      "(blue)\n",
      "(black)\n",
      "(blue)\n"
     ]
    }
   ],
   "source": [
    "%%pig\n",
    "-- >>> Write your answer here <<<\n",
    "data = FOREACH u GENERATE color;\n",
    "respuesta = FILTER data by LOWER(SUBSTRING(color,0,1)) MATCHES 'b';\n",
    "dump respuesta;"
   ]
  },
  {
   "cell_type": "markdown",
   "metadata": {},
   "source": [
    "## Pregunta 6\n",
    "\n",
    "Escriba el código equivalente a la siguiente consulta SQL.\n",
    "\n",
    "    SELECT \n",
    "        color \n",
    "    FROM \n",
    "        u \n",
    "    WHERE \n",
    "        color NOT LIKE 'b%';"
   ]
  },
  {
   "cell_type": "code",
   "execution_count": 14,
   "metadata": {},
   "outputs": [
    {
     "name": "stdout",
     "output_type": "stream",
     "text": [
      "(green)\n",
      "(green)\n",
      "(orange)\n",
      "(viole)\n",
      "(red)\n",
      "(indigo)\n",
      "(indigo)\n",
      "(green)\n",
      "(gray)\n",
      "(red)\n",
      "(orange)\n",
      "(green)\n",
      "(yellow)\n"
     ]
    }
   ],
   "source": [
    "%%pig\n",
    "-- >>> Write your answer here <<<\n",
    "data = FOREACH u GENERATE color;\n",
    "respuesta= FILTER data by not LOWER(SUBSTRING(color,0,1)) MATCHES 'b';\n",
    "DUMP respuesta;"
   ]
  },
  {
   "cell_type": "markdown",
   "metadata": {},
   "source": [
    "## Pregunta 7\n",
    "\n",
    "Escriba el código equivalente a la siguiente consulta SQL.\n",
    "\n",
    "    SELECT \n",
    "        firstname,\n",
    "        color\n",
    "    FROM \n",
    "        u \n",
    "    WHERE color = 'blue' AND firstname LIKE 'Z%';"
   ]
  },
  {
   "cell_type": "code",
   "execution_count": 15,
   "metadata": {},
   "outputs": [
    {
     "name": "stdout",
     "output_type": "stream",
     "text": [
      "(Zoe,blue)\n"
     ]
    }
   ],
   "source": [
    "%%pig\n",
    "-- >>> Write your answer here <<<\n",
    "var1 = FOREACH u GENERATE firstname,color;\n",
    "var2 = FILTER var1 by UPPER(SUBSTRING(firstname,0,1)) MATCHES 'Z';\n",
    "var3 = FILTER var2 by color MATCHES 'blue';\n",
    "DUMP var3;"
   ]
  },
  {
   "cell_type": "markdown",
   "metadata": {},
   "source": [
    "## Pregunta 8\n",
    "\n",
    "Escriba el código equivalente a la siguiente consulta SQL.\n",
    "\n",
    "    SELECT\n",
    "        firstname,\n",
    "        color\n",
    "    FROM \n",
    "        u\n",
    "    WHERE color = 'blue' OR firstname LIKE 'K%';"
   ]
  },
  {
   "cell_type": "code",
   "execution_count": 18,
   "metadata": {},
   "outputs": [
    {
     "name": "stdout",
     "output_type": "stream",
     "text": [
      "(Karen,green)\n",
      "(Zoe,blue)\n",
      "(Driscoll,blue)\n",
      "(Karyn,red)\n",
      "(Kylan,black)\n",
      "(Hope,blue)\n"
     ]
    }
   ],
   "source": [
    "%%pig\n",
    "-- >>> Write your answer here <<<\n",
    "var1 = FOREACH u GENERATE firstname,color;\n",
    "var4 = FILTER var1 by (color=='blue' or UPPER(SUBSTRING(firstname,0,1))=='K');\n",
    "DUMP var4;"
   ]
  },
  {
   "cell_type": "markdown",
   "metadata": {},
   "source": [
    "## Pregunta 9\n",
    "\n",
    "Escriba el código equivalente a la siguiente consulta SQL.\n",
    "\n",
    "    SELECT \n",
    "        firstname, color \n",
    "    FROM \n",
    "        u\n",
    "    WHERE color IN ('blue','black');"
   ]
  },
  {
   "cell_type": "code",
   "execution_count": 19,
   "metadata": {},
   "outputs": [
    {
     "name": "stdout",
     "output_type": "stream",
     "text": [
      "(Roth,black)\n",
      "(Zoe,blue)\n",
      "(Driscoll,blue)\n",
      "(Kylan,black)\n",
      "(Hope,blue)\n"
     ]
    }
   ],
   "source": [
    "%%pig\n",
    "-- >>> Write your answer here <<<\n",
    "data= FOREACH u GENERATE firstname,color;\n",
    "respuesta = FILTER data by color MATCHES 'blue|black';\n",
    "DUMP respuesta;"
   ]
  },
  {
   "cell_type": "markdown",
   "metadata": {},
   "source": [
    "### Pregunta 10\n",
    "\n",
    "Escriba el código equivalente a la siguiente consulta SQL.\n",
    "\n",
    "    SELECT \n",
    "        firstname, \n",
    "        color \n",
    "    FROM \n",
    "        u \n",
    "    WHERE color NOT IN ('blue','black');"
   ]
  },
  {
   "cell_type": "code",
   "execution_count": 20,
   "metadata": {},
   "outputs": [
    {
     "name": "stdout",
     "output_type": "stream",
     "text": [
      "(Vivian,green)\n",
      "(Karen,green)\n",
      "(Cody,orange)\n",
      "(Gretchen,viole)\n",
      "(Karyn,red)\n",
      "(Merritt,indigo)\n",
      "(Jordan,indigo)\n",
      "(Hope,green)\n",
      "(Vivian,gray)\n",
      "(Clio,red)\n",
      "(Ayanna,orange)\n",
      "(Chanda,green)\n",
      "(Chadwick,yellow)\n"
     ]
    }
   ],
   "source": [
    "%%pig\n",
    "-- >>> Write your answer here <<<\n",
    "data= FOREACH u GENERATE firstname,color;\n",
    "respuesta = FILTER data by not color MATCHES 'blue|black';\n",
    "DUMP respuesta;"
   ]
  },
  {
   "cell_type": "markdown",
   "metadata": {},
   "source": [
    "## Pregunta 11\n",
    "\n",
    "Escriba el código equivalente a la siguiente consulta SQL.\n",
    "\n",
    "    SELECT\n",
    "        firstname,\n",
    "        color\n",
    "    FROM \n",
    "        u \n",
    "    WHERE \n",
    "        color REGEXP '^b';"
   ]
  },
  {
   "cell_type": "code",
   "execution_count": 21,
   "metadata": {},
   "outputs": [
    {
     "name": "stdout",
     "output_type": "stream",
     "text": [
      "(Roth,black)\n",
      "(Zoe,blue)\n",
      "(Driscoll,blue)\n",
      "(Kylan,black)\n",
      "(Hope,blue)\n"
     ]
    }
   ],
   "source": [
    "%%pig\n",
    "-- >>> Write your answer here <<<\n",
    "data= FOREACH u GENERATE firstname,color;\n",
    "respuesta = FILTER data by color MATCHES '.*^b.*';\n",
    "DUMP respuesta;"
   ]
  },
  {
   "cell_type": "markdown",
   "metadata": {},
   "source": [
    "## Pregunta 12\n",
    "\n",
    "Escriba el código equivalente a la siguiente consulta SQL.\n",
    "\n",
    "    SELECT\n",
    "        firstname,\n",
    "        color\n",
    "    FROM \n",
    "        u \n",
    "    WHERE \n",
    "        color REGEXP '^[^b]';"
   ]
  },
  {
   "cell_type": "code",
   "execution_count": 22,
   "metadata": {},
   "outputs": [
    {
     "name": "stdout",
     "output_type": "stream",
     "text": [
      "(Vivian,green)\n",
      "(Karen,green)\n",
      "(Cody,orange)\n",
      "(Gretchen,viole)\n",
      "(Karyn,red)\n",
      "(Merritt,indigo)\n",
      "(Jordan,indigo)\n",
      "(Hope,green)\n",
      "(Vivian,gray)\n",
      "(Clio,red)\n",
      "(Ayanna,orange)\n",
      "(Chanda,green)\n",
      "(Chadwick,yellow)\n"
     ]
    }
   ],
   "source": [
    "%%pig\n",
    "-- >>> Write your answer here <<<\n",
    "data = FOREACH u GENERATE firstname,color;\n",
    "respuesta = FILTER data by color MATCHES '.*^[^b].*';\n",
    "DUMP respuesta;"
   ]
  },
  {
   "cell_type": "markdown",
   "metadata": {},
   "source": [
    "## Pregunta 13\n",
    "\n",
    "Escriba el código equivalente a la siguiente consulta SQL.\n",
    "\n",
    "    SELECT \n",
    "        firstname,\n",
    "        color\n",
    "    FROM \n",
    "        u\n",
    "    WHERE \n",
    "        color REGEXP 'blue|green';"
   ]
  },
  {
   "cell_type": "code",
   "execution_count": 23,
   "metadata": {},
   "outputs": [
    {
     "name": "stdout",
     "output_type": "stream",
     "text": [
      "(Vivian,green)\n",
      "(Karen,green)\n",
      "(Zoe,blue)\n",
      "(Driscoll,blue)\n",
      "(Hope,green)\n",
      "(Hope,blue)\n",
      "(Chanda,green)\n"
     ]
    }
   ],
   "source": [
    "%%pig\n",
    "-- >>> Write your answer here <<<\n",
    "data = FOREACH u GENERATE firstname,color;\n",
    "respuesta = FILTER data by color MATCHES '.*blue|green.*';\n",
    "DUMP respuesta;"
   ]
  },
  {
   "cell_type": "markdown",
   "metadata": {},
   "source": [
    "## Pregunta 14\n",
    "\n",
    "Escriba el código equivalente a la siguiente consulta SQL.\n",
    "\n",
    "    SELECT \n",
    "        firstname,\n",
    "        color\n",
    "    FROM \n",
    "        u\n",
    "    WHERE \n",
    "        color REGEXP '.n';"
   ]
  },
  {
   "cell_type": "code",
   "execution_count": 24,
   "metadata": {},
   "outputs": [
    {
     "name": "stdout",
     "output_type": "stream",
     "text": [
      "(Vivian,green)\n",
      "(Karen,green)\n",
      "(Hope,green)\n",
      "(Chanda,green)\n"
     ]
    }
   ],
   "source": [
    "%%pig\n",
    "-- >>> Write your answer here <<<\n",
    "data = FOREACH u GENERATE firstname,color;\n",
    "respuesta = FILTER data by color MATCHES '.*n$.*';\n",
    "DUMP respuesta;"
   ]
  },
  {
   "cell_type": "markdown",
   "metadata": {},
   "source": [
    "## Pregunta 15\n",
    "\n",
    "Escriba el código equivalente a la siguiente consulta SQL.\n",
    "\n",
    "    SELECT \n",
    "        firstname,\n",
    "        color \n",
    "    FROM \n",
    "        u \n",
    "    WHERE \n",
    "        color REGEXP '[aeiou]$';"
   ]
  },
  {
   "cell_type": "code",
   "execution_count": 25,
   "metadata": {},
   "outputs": [
    {
     "name": "stdout",
     "output_type": "stream",
     "text": [
      "(Cody,orange)\n",
      "(Zoe,blue)\n",
      "(Gretchen,viole)\n",
      "(Driscoll,blue)\n",
      "(Merritt,indigo)\n",
      "(Jordan,indigo)\n",
      "(Hope,blue)\n",
      "(Ayanna,orange)\n"
     ]
    }
   ],
   "source": [
    "%%pig\n",
    "-- >>> Write your answer here <<<\n",
    "data = FOREACH u GENERATE firstname,color;\n",
    "respuesta = FILTER data by color MATCHES '.*[aeiou]$.*';\n",
    "DUMP respuesta;"
   ]
  },
  {
   "cell_type": "markdown",
   "metadata": {},
   "source": [
    "## Pregunta 16\n",
    "\n",
    "Escriba el código equivalente a la siguiente consulta SQL.\n",
    "\n",
    "    SELECT \n",
    "        REGEX_EXTRACT(birthday, '....-..-..', 2) \n",
    "    FROM \n",
    "        u;"
   ]
  },
  {
   "cell_type": "code",
   "execution_count": 26,
   "metadata": {},
   "outputs": [
    {
     "name": "stdout",
     "output_type": "stream",
     "text": [
      "(07)\n",
      "(05)\n",
      "(04)\n",
      "(01)\n",
      "(07)\n",
      "(10)\n",
      "(10)\n",
      "(02)\n",
      "(10)\n",
      "(02)\n",
      "(12)\n",
      "(12)\n",
      "(08)\n",
      "(12)\n",
      "(07)\n",
      "(02)\n",
      "(04)\n",
      "(04)\n"
     ]
    }
   ],
   "source": [
    "%%pig\n",
    "-- >>> Write your answer here <<<\n",
    "respuesta = FOREACH u GENERATE SUBSTRING(birthday,5,7);\n",
    "DUMP respuesta;"
   ]
  },
  {
   "cell_type": "markdown",
   "metadata": {},
   "source": [
    "## Pregunta 17\n",
    "\n",
    "Escriba el código equivalente a la siguiente consulta SQL.\n",
    "\n",
    "    SELECT  \n",
    "        firstname,\n",
    "        SUBSTRING_INDEX(firstname, 'a', 1)\n",
    "    FROM \n",
    "        u;"
   ]
  },
  {
   "cell_type": "code",
   "execution_count": 27,
   "metadata": {},
   "outputs": [
    {
     "name": "stdout",
     "output_type": "stream",
     "text": [
      "(4)\n",
      "(1)\n",
      "(-1)\n",
      "(-1)\n",
      "(-1)\n",
      "(-1)\n",
      "(-1)\n",
      "(1)\n",
      "(-1)\n",
      "(3)\n",
      "(4)\n",
      "(-1)\n",
      "(4)\n",
      "(-1)\n",
      "(-1)\n",
      "(2)\n",
      "(2)\n",
      "(2)\n"
     ]
    }
   ],
   "source": [
    "%%pig\n",
    "-- >>> Write your answer here <<<\n",
    "respuesta = FOREACH u GENERATE INDEXOF(firstname,'a',0);\n",
    "DUMP respuesta;"
   ]
  },
  {
   "cell_type": "markdown",
   "metadata": {},
   "source": [
    "## Pregunta 18\n",
    "\n",
    "Escriba el código equivalente a la siguiente consulta SQL.\n",
    "\n",
    "    SELECT \n",
    "        firstname \n",
    "    FROM \n",
    "        u \n",
    "    WHERE \n",
    "        SUBSTRING(firstname, 0, 1) >= 'm';"
   ]
  },
  {
   "cell_type": "code",
   "execution_count": 28,
   "metadata": {},
   "outputs": [
    {
     "name": "stdout",
     "output_type": "stream",
     "text": [
      "(Vivian)\n",
      "(Roth)\n",
      "(Zoe)\n",
      "(Merritt)\n",
      "(Vivian)\n"
     ]
    }
   ],
   "source": [
    "%%pig\n",
    "-- >>> Write your answer here <<<\n",
    "data = FOREACH u GENERATE firstname;\n",
    "respuesta = FILTER data by UPPER(SUBSTRING(firstname,0,1)) >= 'M';\n",
    "DUMP respuesta;"
   ]
  },
  {
   "cell_type": "markdown",
   "metadata": {},
   "source": [
    "## Pregunta 19\n",
    "\n",
    "Escriba el código equivalente a la siguiente consulta SQL.\n",
    "\n",
    "    SELECT \n",
    "        firstname, \n",
    "        LOCATE('ia', firstname) \n",
    "    FROM \n",
    "        u;"
   ]
  },
  {
   "cell_type": "code",
   "execution_count": 29,
   "metadata": {},
   "outputs": [
    {
     "name": "stdout",
     "output_type": "stream",
     "text": [
      "(3)\n",
      "(-1)\n",
      "(-1)\n",
      "(-1)\n",
      "(-1)\n",
      "(-1)\n",
      "(-1)\n",
      "(-1)\n",
      "(-1)\n",
      "(-1)\n",
      "(-1)\n",
      "(-1)\n",
      "(3)\n",
      "(-1)\n",
      "(-1)\n",
      "(-1)\n",
      "(-1)\n",
      "(-1)\n"
     ]
    }
   ],
   "source": [
    "%%pig\n",
    "-- >>> Write your answer here <<<\n",
    "respuesta = FOREACH u GENERATE INDEXOF(firstname,'ia',0);\n",
    "DUMP respuesta;"
   ]
  },
  {
   "cell_type": "markdown",
   "metadata": {},
   "source": [
    "## Pregunta 20\n",
    "\n",
    "Escriba el código en Pig para manipulación de fechas que genere sea equivalente a la siguiente consulta SQL.\n",
    "\n",
    "    SELECT \n",
    "        birthday, \n",
    "        DATE_FORMAT(birthday, \"yyyy\"),\n",
    "        DATE_FORMAT(birthday, \"yy\"),\n",
    "    FROM \n",
    "        persons\n",
    "    LIMIT\n",
    "        5;"
   ]
  },
  {
   "cell_type": "code",
   "execution_count": 45,
   "metadata": {},
   "outputs": [
    {
     "name": "stdout",
     "output_type": "stream",
     "text": [
      "(1971,71)\n",
      "(1974,74)\n",
      "(1973,73)\n",
      "(1975,75)\n",
      "(1974,74)\n",
      "(1974,74)\n",
      "(1970,70)\n",
      "(1969,69)\n",
      "(1974,74)\n",
      "(1975,75)\n",
      "(1969,69)\n",
      "(1973,73)\n",
      "(1970,70)\n",
      "(1972,72)\n",
      "(1970,70)\n",
      "(1974,74)\n",
      "(1973,73)\n",
      "(1973,73)\n"
     ]
    }
   ],
   "source": [
    "%%pig\n",
    "-- >>> Write your answer here <<<\n",
    "respuesta = FOREACH u GENERATE SUBSTRING(birthday,0,4), SUBSTRING(birthday,2,4);\n",
    "DUMP respuesta;"
   ]
  },
  {
   "cell_type": "markdown",
   "metadata": {},
   "source": [
    "## Pregunta 21\n",
    "\n",
    "Escriba el código en Pig para manipulación de fechas que genere la siguiente salida.\n",
    "\n",
    "    (1971-07-08,jul,07,7)\n",
    "    (1974-05-23,may,05,5)\n",
    "    (1973-04-22,abr,04,4)\n",
    "    (1975-01-29,ene,01,1)\n",
    "    (1974-07-03,jul,07,7)\n",
    "    (1974-10-18,oct,10,10)\n",
    "    (1970-10-05,oct,10,10)\n",
    "    (1969-02-24,feb,02,2)\n",
    "    (1974-10-17,oct,10,10)\n",
    "    (1975-02-28,feb,02,2)\n",
    "    (1969-12-07,dic,12,12)\n",
    "    (1973-12-24,dic,12,12)\n",
    "    (1970-08-27,ago,08,8)\n",
    "    (1972-12-12,dic,12,12)\n",
    "    (1970-07-01,jul,07,7)\n",
    "    (1974-02-11,feb,02,2)\n",
    "    (1973-04-01,abr,04,4)\n",
    "    (1973-04-29,abr,04,4)"
   ]
  },
  {
   "cell_type": "code",
   "execution_count": 33,
   "metadata": {},
   "outputs": [
    {
     "name": "stdout",
     "output_type": "stream",
     "text": [
      "(1971-07-08,jul,07,7)\n",
      "(1974-05-23,may,05,5)\n",
      "(1973-04-22,abr,04,4)\n",
      "(1975-01-29,ene,01,1)\n",
      "(1974-07-03,jul,07,7)\n",
      "(1974-10-18,oct,10,10)\n",
      "(1970-10-05,oct,10,10)\n",
      "(1969-02-24,feb,02,2)\n",
      "(1974-10-17,oct,10,10)\n",
      "(1975-02-28,feb,02,2)\n",
      "(1969-12-07,dic,12,12)\n",
      "(1973-12-24,dic,12,12)\n",
      "(1970-08-27,ago,08,8)\n",
      "(1972-12-12,dic,12,12)\n",
      "(1970-07-01,jul,07,7)\n",
      "(1974-02-11,feb,02,2)\n",
      "(1973-04-01,abr,04,4)\n",
      "(1973-04-29,abr,04,4)\n"
     ]
    }
   ],
   "source": [
    "%%pig\n",
    "-- >>> Write your answer here <<<\n",
    "data = FOREACH u GENERATE birthday, \n",
    "SUBSTRING(birthday,5,7) as var5, \n",
    "SUBSTRING(birthday,5,7) as var6;\n",
    "data_1 = FOREACH data GENERATE birthday,\n",
    "(int)var5, \n",
    "var6;\n",
    "respuesta = FOREACH data_1 GENERATE birthday,\n",
    "(CASE var5 WHEN 1 THEN 'ene'  \n",
    "          WHEN 2 THEN 'feb'  \n",
    "          WHEN 3 THEN 'mar' \n",
    "          WHEN 4 THEN 'abr'  \n",
    "          WHEN 5 THEN 'may'  \n",
    "          WHEN 6 THEN 'jun'  \n",
    "          WHEN 7 THEN 'jul'  \n",
    "          WHEN 8 THEN 'ago'  \n",
    "          WHEN 9 THEN 'sep'  \n",
    "          WHEN 10 THEN 'oct'  \n",
    "          WHEN 11 THEN 'nov'  \n",
    "          WHEN 12 THEN 'dic' ELSE ''  END),\n",
    "var6, \n",
    "var5;\n",
    "DUMP respuesta;"
   ]
  },
  {
   "cell_type": "markdown",
   "metadata": {},
   "source": [
    "## Pregunta 22\n",
    "\n",
    "Escriba el código en Pig para manipulación de fechas que genere la siguiente salida:\n",
    "\n",
    "    (1971-07-08,08,8,jue,jueves)\n",
    "    (1974-05-23,23,23,jue,jueves)\n",
    "    (1973-04-22,22,22,dom,domingo)\n",
    "    (1975-01-29,29,29,mié,miércoles)\n",
    "    (1974-07-03,03,3,mié,miércoles)\n",
    "    (1974-10-18,18,18,vie,viernes)\n",
    "    (1970-10-05,05,5,lun,lunes)\n",
    "    (1969-02-24,24,24,lun,lunes)\n",
    "    (1974-10-17,17,17,jue,jueves)\n",
    "    (1975-02-28,28,28,vie,viernes)\n",
    "    (1969-12-07,07,7,dom,domingo)\n",
    "    (1973-12-24,24,24,lun,lunes)\n",
    "    (1970-08-27,27,27,jue,jueves)\n",
    "    (1972-12-12,12,12,mar,martes)\n",
    "    (1970-07-01,01,1,mié,miércoles)\n",
    "    (1974-02-11,11,11,lun,lunes)\n",
    "    (1973-04-01,01,1,dom,domingo)\n",
    "    (1973-04-29,29,29,dom,domingo)"
   ]
  },
  {
   "cell_type": "code",
   "execution_count": 42,
   "metadata": {},
   "outputs": [
    {
     "name": "stdout",
     "output_type": "stream",
     "text": [
      "(1971-07-08,08,8,,)\n",
      "(1974-05-23,23,23,,)\n",
      "(1973-04-22,22,22,,)\n",
      "(1975-01-29,29,29,,)\n",
      "(1974-07-03,03,3,,)\n",
      "(1974-10-18,18,18,,)\n",
      "(1970-10-05,05,5,,)\n",
      "(1969-02-24,24,24,,)\n",
      "(1974-10-17,17,17,,)\n",
      "(1975-02-28,28,28,,)\n",
      "(1969-12-07,07,7,,)\n",
      "(1973-12-24,24,24,,)\n",
      "(1970-08-27,27,27,,)\n",
      "(1972-12-12,12,12,,)\n",
      "(1970-07-01,01,1,,)\n",
      "(1974-02-11,11,11,,)\n",
      "(1973-04-01,01,1,,)\n",
      "(1973-04-29,29,29,,)\n"
     ]
    }
   ],
   "source": [
    "%%pig\n",
    "-- >>> Write your answer here <<<\n",
    "var7 = FOREACH u GENERATE birthday,\n",
    "   ToDate(birthday,'yyyy-MM-dd') as date;\n",
    "var8= FOREACH var7 GENERATE birthday,LOWER(ToString(date,'dd')) as DD\n",
    "   ,ToString(date,'d') as D,ToString(date,'E') as E,\n",
    "   ToString(date,'EEEE') as EEEE;\n",
    "E = FOREACH var8 GENERATE birthday,DD,D,\n",
    "(CASE E WHEN 'Mon' THEN 'lun'\n",
    "          WHEN 'Tue' THEN 'mar'  \n",
    "          WHEN 'Wed' THEN 'mié' \n",
    "          WHEN 'Thu' THEN 'jue'  \n",
    "          WHEN 'Fri' THEN 'vie'  \n",
    "          WHEN 'Sat' THEN 'sab'  \n",
    "          WHEN 'Sun' THEN 'dom'  ELSE ''  END),\n",
    "(CASE EEEE WHEN 'Monday' THEN 'lunes'  \n",
    "          WHEN 'Tuesday' THEN 'martes'  \n",
    "          WHEN 'Wednesday' THEN 'miércoles' \n",
    "          WHEN 'Thursday' THEN 'jueves'  \n",
    "          WHEN 'Friday' THEN 'viernes'  \n",
    "          WHEN 'Saturday' THEN 'sabado'  \n",
    "          WHEN 'Sunday' THEN 'domingo'  ELSE ''  END);\n",
    "DUMP E;"
   ]
  },
  {
   "cell_type": "markdown",
   "metadata": {},
   "source": [
    "## Pregunta 23\n",
    "\n",
    "Cuente la cantidad de personas nacidas por año."
   ]
  },
  {
   "cell_type": "code",
   "execution_count": 38,
   "metadata": {},
   "outputs": [
    {
     "name": "stdout",
     "output_type": "stream",
     "text": [
      "(1969,2)\n",
      "(1970,3)\n",
      "(1971,1)\n",
      "(1972,1)\n",
      "(1973,4)\n",
      "(1974,5)\n",
      "(1975,2)\n"
     ]
    }
   ],
   "source": [
    "%%pig\n",
    "-- >>> Write your answer here <<<\n",
    "data = FOREACH u GENERATE birthday,SUBSTRING(birthday,0,4) as mes1;\n",
    "data_1 = GROUP data BY (mes1);\n",
    "respuesta = FOREACH data_1 GENERATE group,COUNT(data.mes1) AS tot;\n",
    "DUMP respuesta;"
   ]
  },
  {
   "cell_type": "markdown",
   "metadata": {},
   "source": [
    "---"
   ]
  },
  {
   "cell_type": "code",
   "execution_count": null,
   "metadata": {},
   "outputs": [],
   "source": [
    "!rm pig_* data.csv"
   ]
  },
  {
   "cell_type": "markdown",
   "metadata": {},
   "source": [
    "---"
   ]
  }
 ],
 "metadata": {
  "kernelspec": {
   "display_name": "Python 3",
   "language": "python",
   "name": "python3"
  },
  "language_info": {
   "codemirror_mode": {
    "name": "ipython",
    "version": 3
   },
   "file_extension": ".py",
   "mimetype": "text/x-python",
   "name": "python",
   "nbconvert_exporter": "python",
   "pygments_lexer": "ipython3",
   "version": "3.6.5"
  }
 },
 "nbformat": 4,
 "nbformat_minor": 2
}
